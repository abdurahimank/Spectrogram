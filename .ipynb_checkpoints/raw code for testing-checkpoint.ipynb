{
 "cells": [
  {
   "cell_type": "code",
   "execution_count": null,
   "id": "1c5548a2-d16e-46f0-b852-123b260de01b",
   "metadata": {},
   "outputs": [],
   "source": [
    "import matplotlib.pyplot as plt\n",
    "import numpy as np\n",
    "from scipy.fftpack import fft\n",
    "from scipy import signal\n",
    "import tkinter as tk\n",
    "from tkinter import filedialog\n",
    "import time"
   ]
  },
  {
   "cell_type": "code",
   "execution_count": null,
   "id": "bd365ea7-4e8a-4051-8f8e-d34292e940e4",
   "metadata": {},
   "outputs": [],
   "source": [
    "#Prompt user for file\n",
    "root = tk.Tk()\n",
    "root.withdraw()\n",
    "file_path = filedialog.askopenfilename(filetypes=[(\"Two Column CSV\",\"*.csv\")])\n",
    "print(file_path)\n",
    "\n",
    "#Load Data (assumes two column array\n",
    "tic = time.clock()\n",
    "t, x = np.genfromtxt(file_path,delimiter=',', unpack=True)\n",
    "toc = time.clock()\n",
    "print(\"Load Time:\",toc-tic)"
   ]
  },
  {
   "cell_type": "code",
   "execution_count": null,
   "id": "fbbdc67d-d18c-49e0-94ab-3831495a5b02",
   "metadata": {},
   "outputs": [],
   "source": [
    "#Determine variables\n",
    "N = np.int(np.prod(t.shape))#length of the array\n",
    "Fs = 1/(t[1]-t[0]) \t#sample rate (Hz)\n",
    "T = 1/Fs;\n",
    "print(\"# Samples:\",N)\n",
    "\n",
    "#Plot Data\n",
    "tic = time.clock()\n",
    "plt.figure(1)  \n",
    "plt.plot(t, x)\n",
    "plt.xlabel('Time (seconds)')\n",
    "plt.ylabel('Accel (g)')\n",
    "plt.title(file_path)\n",
    "plt.grid()\n",
    "toc = time.clock()\n",
    "print(\"Plot Time:\",toc-tic)"
   ]
  },
  {
   "cell_type": "code",
   "execution_count": null,
   "id": "f1dff7ff-3dce-4c3c-8652-d0ae9dbd4a05",
   "metadata": {},
   "outputs": [],
   "source": [
    "#Compute RMS and Plot\n",
    "tic = time.clock()\n",
    "w = np.int(np.floor(Fs)); #width of the window for computing RMS\n",
    "steps = np.int_(np.floor(N/w)); #Number of steps for RMS\n",
    "t_RMS = np.zeros((steps,1)); #Create array for RMS time values\n",
    "x_RMS = np.zeros((steps,1)); #Create array for RMS values\n",
    "for i in range (0, steps):\n",
    "\tt_RMS[i] = np.mean(t[(i*w):((i+1)*w)]);\n",
    "\tx_RMS[i] = np.sqrt(np.mean(x[(i*w):((i+1)*w)]**2));  \n",
    "plt.figure(2)  \n",
    "plt.plot(t_RMS, x_RMS)\n",
    "plt.xlabel('Time (seconds)')\n",
    "plt.ylabel('RMS Accel (g)')\n",
    "plt.title('RMS - ' + file_path)\n",
    "plt.grid()\n",
    "toc = time.clock()\n",
    "print(\"RMS Time:\",toc-tic)"
   ]
  },
  {
   "cell_type": "code",
   "execution_count": null,
   "id": "1f6d4287-8e5c-4b82-a9bc-4dc8cb7281c8",
   "metadata": {},
   "outputs": [],
   "source": [
    "#Compute and Plot FFT\n",
    "tic = time.clock()\n",
    "plt.figure(3)  \n",
    "xf = np.linspace(0.0, 1.0/(2.0*T), N/2)\n",
    "yf = fft(x)\n",
    "plt.plot(xf, 2.0/N * np.abs(yf[0:np.int(N/2)]))\n",
    "plt.grid()\n",
    "plt.xlabel('Frequency (Hz)')\n",
    "plt.ylabel('Accel (g)')\n",
    "plt.title('FFT - ' + file_path)\n",
    "toc = time.clock()\n",
    "print(\"FFT Time:\",toc-tic)"
   ]
  },
  {
   "cell_type": "code",
   "execution_count": null,
   "id": "85f590cc-e3c3-42c5-af3f-753144cb011c",
   "metadata": {},
   "outputs": [],
   "source": [
    "# Compute and Plot Spectrogram\n",
    "tic = time.clock()\n",
    "plt.figure(4)  \n",
    "f, t2, Sxx = signal.spectrogram(x, Fs, nperseg = Fs/4)\n",
    "plt.pcolormesh(t2, f, np.log(Sxx))\n",
    "plt.ylabel('Frequency [Hz]')\n",
    "plt.xlabel('Time [sec]')\n",
    "plt.title('Spectrogram - ' + file_path)\n",
    "toc = time.clock()\n",
    "print(\"Spectrogram Time:\",toc-tic)\n",
    "plt.show()"
   ]
  },
  {
   "cell_type": "code",
   "execution_count": null,
   "id": "2b22a960-522f-4e35-9ee6-b34c19fd4802",
   "metadata": {},
   "outputs": [],
   "source": []
  }
 ],
 "metadata": {
  "kernelspec": {
   "display_name": "Python 3 (ipykernel)",
   "language": "python",
   "name": "python3"
  },
  "language_info": {
   "codemirror_mode": {
    "name": "ipython",
    "version": 3
   },
   "file_extension": ".py",
   "mimetype": "text/x-python",
   "name": "python",
   "nbconvert_exporter": "python",
   "pygments_lexer": "ipython3",
   "version": "3.13.1"
  }
 },
 "nbformat": 4,
 "nbformat_minor": 5
}
